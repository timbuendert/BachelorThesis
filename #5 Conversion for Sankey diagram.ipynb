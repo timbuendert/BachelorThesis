{
 "cells": [
  {
   "cell_type": "markdown",
   "metadata": {},
   "source": [
    "# Notebook 5: Conversion for Sankey diagram\n",
    "\n",
    "Based on the contract lifecycles that were constructed combining all documents, their labels (preliminary labels and those from notebook #4) and timestamps, this notebook formats the contract lifecycles for the subsequent construction of a Sankey diagram.\n",
    "\n",
    "The results are reported in the thesis section 4.3.3.\n",
    "\n",
    "Table of Contents:\n",
    "* [5.1 Loading contract life cycles as list](#load)\n",
    "* [5.2 Exploratory analysis of underlying distribution](#explore)\n",
    "* [5.3 Format contract life cycles for Sankey diagram](#sankey)"
   ]
  },
  {
   "cell_type": "code",
   "execution_count": null,
   "metadata": {},
   "outputs": [],
   "source": [
    "#loading required packages\n",
    "import pickle\n",
    "from collections import Counter\n",
    "from copy import deepcopy\n",
    "import matplotlib.pyplot as plt"
   ]
  },
  {
   "cell_type": "markdown",
   "metadata": {},
   "source": [
    "# 5.1 Loading contract life cycles <a id=\"load\"></a>"
   ]
  },
  {
   "cell_type": "code",
   "execution_count": null,
   "metadata": {},
   "outputs": [],
   "source": [
    "# loading contract life cycles from notebook #4\n",
    "\n",
    "#load list_contracts\n",
    "    \n",
    "print(len(list_contracts)) #print number of contracts to ensure correct length\n",
    "print(list_contracts[0]) #print sample contract life cycle to ensure correct format"
   ]
  },
  {
   "cell_type": "markdown",
   "metadata": {},
   "source": [
    "# 5.2 Exploratory analysis of underlying distribution <a id=\"explore\"></a>"
   ]
  },
  {
   "cell_type": "code",
   "execution_count": null,
   "metadata": {},
   "outputs": [],
   "source": [
    "# retrieve dictionary of contract lengths\n",
    "t = [len(list_contracts[i]) for i in range(len(list_contracts))] #list of contract lengths\n",
    "t_d = dict(sorted(dict(Counter(t)).items())) #aggregate and sort contract length distribution\n",
    "print(t_d) "
   ]
  },
  {
   "cell_type": "code",
   "execution_count": null,
   "metadata": {},
   "outputs": [],
   "source": [
    "# visualize contract length distribution\n",
    "t_p = deepcopy(t_d)\n",
    "base = 0\n",
    "for x in t_p:\n",
    "    new_p = (t_p[x]/len(list_contracts)) + base # iteratively increase cumulative percentage\n",
    "    t_p[x] = new_p #update cumulative percentage\n",
    "    base = new_p #update basis for new iteration\n",
    "\n",
    "# plot distribution\n",
    "fig, ax = plt.subplots()\n",
    "ax.plot([*t_p], list(t_p.values()))\n",
    "\n",
    "ax.set(xlabel='Number of documents per contract', ylabel='Cumulative %')\n",
    "plt.show()\n",
    "\n",
    "# print cumulative percentage for selection of contract lengths\n",
    "for i in [1, 2, 5, 10, 20]:\n",
    "    print('Percentage of contract containing up to', i, 'documents:', t_p[i])"
   ]
  },
  {
   "cell_type": "markdown",
   "metadata": {},
   "source": [
    "# 5.3 Format contract life cycles for Sankey diagram <a id=\"sankey\"></a>"
   ]
  },
  {
   "cell_type": "code",
   "execution_count": null,
   "metadata": {},
   "outputs": [],
   "source": [
    "text_labels = ['Agreement', 'Amendment', 'Attachment', 'LOI', 'NDA', 'Offer', 'SOW']\n",
    "colors = ['#0B86F3', '#F3B40B', '#92D53C', '#3CD5A2', '#7A440E', '#9F0BF3', '#EAF74C']  # red: #F53B13\n",
    "\n",
    "# define functions for formatting\n",
    "\n",
    "# retrieve list of all documents types for first document (num = 0), second (num = 1) etc.\n",
    "def dist_list(num):\n",
    "    l = list()\n",
    "    for i in range(len(list_contracts)): #access each contract\n",
    "        try:\n",
    "            l.append(list_contracts[i][num]) #add desired document of contract to list\n",
    "        except IndexError:\n",
    "            continue\n",
    "    return l #return list of documents\n",
    "\n",
    "# iterate through all document types and analyse their next labels\n",
    "def label_new(num):\n",
    "    s = 0 #counter for index of document type for color etc.\n",
    "    for i in text_labels: #assess next classes for each document type\n",
    "        next_labels = list() #create list of next labels\n",
    "        for j in range(len(list_contracts)):\n",
    "            try:\n",
    "                if list_contracts[j][num-1] == i: #access contract depending on previous document type\n",
    "                    next_labels.append(list_contracts[j][num]) #add next document type\n",
    "\n",
    "            except IndexError: #catch error if contract is not long enough\n",
    "                continue\n",
    "\n",
    "        dist_analysis(next_labels, i, num, s) #analyse list of next labels\n",
    "        s += 1 #update index of document type \n",
    "\n",
    "# analyse distribution of next labels\n",
    "def dist_analysis(l, y, n, s):\n",
    "    counter = dict(Counter(l)) #aggregate next document types\n",
    "    print(':{} {}'.format(str(y)+'_'+str(n), colors[s])) #print node + color\n",
    "    for label in counter:\n",
    "        print('{} [{}] {} {}.5'.format(str(y)+'_'+str(n), counter[label], str(label)+'_'+str(n+1), colors[s])) #print for each next document type how many document flow to it\n",
    "    print()"
   ]
  },
  {
   "cell_type": "code",
   "execution_count": null,
   "metadata": {},
   "outputs": [],
   "source": [
    "# generate input for Sankey diagram\n",
    "\n",
    "zero_dist = dist_list(0) #get initial distribution\n",
    "for i in text_labels:\n",
    "    n = zero_dist.count(i) #get number of documents for each class\n",
    "    if n > 0:\n",
    "        s = text_labels.index(str(i)) #access index of document type\n",
    "        print(':{} {}'.format(str(i)+'_'+str(0), colors[s])) #print node with color\n",
    "        print('{} [{}] {} {}.5 \\n'.format(str(i)+'_'+str(0), n, str(i)+'_'+str(1), colors[s])) #print flow with color\n",
    "\n",
    "for i in range(1, 5): #analyze first 2-5 documents (indicated by list index)\n",
    "    label_new(i)\n",
    "\n",
    "# print final colored nodes \n",
    "for label in text_labels:\n",
    "    s = text_labels.index(str(label)) #access index of document type\n",
    "    print(':{} {}'.format(str(label)+'_'+str(5), colors[s])) #print node with respective color"
   ]
  },
  {
   "cell_type": "code",
   "execution_count": null,
   "metadata": {},
   "outputs": [],
   "source": [
    "# for visualization purposes: first flow/connection was constructed to show how many contracts end after first document\n",
    "# -> crop output picture until Agreement_1 etc."
   ]
  }
 ],
 "metadata": {
  "kernelspec": {
   "display_name": "Python 3",
   "language": "python",
   "name": "python3"
  },
  "language_info": {
   "codemirror_mode": {
    "name": "ipython",
    "version": 3
   },
   "file_extension": ".py",
   "mimetype": "text/x-python",
   "name": "python",
   "nbconvert_exporter": "python",
   "pygments_lexer": "ipython3",
   "version": "3.7.3"
  }
 },
 "nbformat": 4,
 "nbformat_minor": 2
}
