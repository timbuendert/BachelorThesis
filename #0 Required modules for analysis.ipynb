{
 "cells": [
  {
   "cell_type": "markdown",
   "metadata": {},
   "source": [
    "# Notebook 0: List of required modules for analysis\n",
    "\n",
    "This notebook lists the Python modules that were used in the analysis."
   ]
  },
  {
   "cell_type": "code",
   "execution_count": null,
   "metadata": {},
   "outputs": [],
   "source": [
    "import numpy\n",
    "import pandas\n",
    "import matplotlib\n",
    "import seaborn\n",
    "import string\n",
    "import collections\n",
    "import fuzzywuzzy\n",
    "import re\n",
    "import tqdm\n",
    "import operator\n",
    "import IPython\n",
    "import copy\n",
    "import pickle\n",
    "import sqlalchemy\n",
    "import pymongo\n",
    "import datetime\n",
    "import statistics \n",
    "import scipy\n",
    "import nltk\n",
    "import sklearn\n",
    "import imblearn\n",
    "import xgboost\n",
    "import spacy\n",
    "import keras\n",
    "import boruta"
   ]
  }
 ],
 "metadata": {
  "kernelspec": {
   "display_name": "Python 3",
   "language": "python",
   "name": "python3"
  },
  "language_info": {
   "codemirror_mode": {
    "name": "ipython",
    "version": 3
   },
   "file_extension": ".py",
   "mimetype": "text/x-python",
   "name": "python",
   "nbconvert_exporter": "python",
   "pygments_lexer": "ipython3",
   "version": "3.7.3"
  }
 },
 "nbformat": 4,
 "nbformat_minor": 2
}
